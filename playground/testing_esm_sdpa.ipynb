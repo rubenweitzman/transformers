{
 "cells": [
  {
   "cell_type": "code",
   "execution_count": 20,
   "metadata": {},
   "outputs": [
    {
     "ename": "RuntimeError",
     "evalue": "Failed to import transformers.models.esm.tokenization_esm because of the following error (look up to see its traceback):\nNo module named 'transformers.models.esm.tokenization_esm'",
     "output_type": "error",
     "traceback": [
      "\u001b[0;31m---------------------------------------------------------------------------\u001b[0m",
      "\u001b[0;31mModuleNotFoundError\u001b[0m                       Traceback (most recent call last)",
      "File \u001b[0;32m~/.conda/envs/protriever/lib/python3.12/site-packages/transformers/utils/import_utils.py:1390\u001b[0m, in \u001b[0;36m_get_module\u001b[0;34m(self, module_name)\u001b[0m\n",
      "File \u001b[0;32m~/.conda/envs/protriever/lib/python3.12/importlib/__init__.py:90\u001b[0m, in \u001b[0;36mimport_module\u001b[0;34m(name, package)\u001b[0m\n\u001b[1;32m     89\u001b[0m         level \u001b[38;5;241m+\u001b[39m\u001b[38;5;241m=\u001b[39m \u001b[38;5;241m1\u001b[39m\n\u001b[0;32m---> 90\u001b[0m \u001b[38;5;28;01mreturn\u001b[39;00m _bootstrap\u001b[38;5;241m.\u001b[39m_gcd_import(name[level:], package, level)\n",
      "File \u001b[0;32m<frozen importlib._bootstrap>:1387\u001b[0m, in \u001b[0;36m_gcd_import\u001b[0;34m(name, package, level)\u001b[0m\n",
      "File \u001b[0;32m<frozen importlib._bootstrap>:1360\u001b[0m, in \u001b[0;36m_find_and_load\u001b[0;34m(name, import_)\u001b[0m\n",
      "File \u001b[0;32m<frozen importlib._bootstrap>:1324\u001b[0m, in \u001b[0;36m_find_and_load_unlocked\u001b[0;34m(name, import_)\u001b[0m\n",
      "\u001b[0;31mModuleNotFoundError\u001b[0m: No module named 'transformers.models.esm.tokenization_esm'",
      "\nThe above exception was the direct cause of the following exception:\n",
      "\u001b[0;31mRuntimeError\u001b[0m                              Traceback (most recent call last)",
      "Cell \u001b[0;32mIn[20], line 1\u001b[0m\n\u001b[0;32m----> 1\u001b[0m \u001b[38;5;28;01mfrom\u001b[39;00m \u001b[38;5;21;01mtransformers\u001b[39;00m \u001b[38;5;28;01mimport\u001b[39;00m EsmModel, EsmTokenizer, BartTokenizer, BartForConditionalGeneration\n\u001b[1;32m      2\u001b[0m \u001b[38;5;28;01mimport\u001b[39;00m \u001b[38;5;21;01msys\u001b[39;00m\n\u001b[1;32m      3\u001b[0m sys\u001b[38;5;241m.\u001b[39mpath\u001b[38;5;241m.\u001b[39mappend(\u001b[38;5;124m'\u001b[39m\u001b[38;5;124m/users/rubman/Desktop/transformers/src/transformers/\u001b[39m\u001b[38;5;124m'\u001b[39m)\n",
      "File \u001b[0;32m<frozen importlib._bootstrap>:1412\u001b[0m, in \u001b[0;36m_handle_fromlist\u001b[0;34m(module, fromlist, import_, recursive)\u001b[0m\n",
      "File \u001b[0;32m~/.conda/envs/protriever/lib/python3.12/site-packages/transformers/utils/import_utils.py:1381\u001b[0m, in \u001b[0;36m__getattr__\u001b[0;34m(self, name)\u001b[0m\n",
      "File \u001b[0;32m~/.conda/envs/protriever/lib/python3.12/site-packages/transformers/utils/import_utils.py:1380\u001b[0m, in \u001b[0;36m__getattr__\u001b[0;34m(self, name)\u001b[0m\n",
      "File \u001b[0;32m~/.conda/envs/protriever/lib/python3.12/site-packages/transformers/utils/import_utils.py:1392\u001b[0m, in \u001b[0;36m_get_module\u001b[0;34m(self, module_name)\u001b[0m\n",
      "\u001b[0;31mRuntimeError\u001b[0m: Failed to import transformers.models.esm.tokenization_esm because of the following error (look up to see its traceback):\nNo module named 'transformers.models.esm.tokenization_esm'"
     ]
    }
   ],
   "source": [
    "from transformers import EsmModel, EsmTokenizer, BartTokenizer, BartForConditionalGeneration\n",
    "import sys\n",
    "sys.path.append('/users/rubman/Desktop/transformers/src/transformers/')\n",
    "from transformers.models.esm.modeling_esm import EsmModel\n",
    "model_hf = BartForConditionalGeneration.from_pretrained(\"facebook/bart-large-cnn\")\n",
    "\n",
    "\n",
    "tokenizer = EsmTokenizer.from_pretrained(\"facebook/esm2_t6_8M_UR50D\")\n",
    "model_esm = EsmModel.from_pretrained(\"facebook/esm2_t6_8M_UR50D\")"
   ]
  },
  {
   "cell_type": "code",
   "execution_count": 19,
   "metadata": {},
   "outputs": [
    {
     "ename": "RuntimeError",
     "evalue": "Failed to import transformers.models.esm.tokenization_esm because of the following error (look up to see its traceback):\nNo module named 'transformers.models.esm.tokenization_esm'",
     "output_type": "error",
     "traceback": [
      "\u001b[0;31m---------------------------------------------------------------------------\u001b[0m",
      "\u001b[0;31mModuleNotFoundError\u001b[0m                       Traceback (most recent call last)",
      "File \u001b[0;32m~/.conda/envs/protriever/lib/python3.12/site-packages/transformers/utils/import_utils.py:1390\u001b[0m, in \u001b[0;36m_get_module\u001b[0;34m(self, module_name)\u001b[0m\n",
      "File \u001b[0;32m~/.conda/envs/protriever/lib/python3.12/importlib/__init__.py:90\u001b[0m, in \u001b[0;36mimport_module\u001b[0;34m(name, package)\u001b[0m\n\u001b[1;32m     89\u001b[0m         level \u001b[38;5;241m+\u001b[39m\u001b[38;5;241m=\u001b[39m \u001b[38;5;241m1\u001b[39m\n\u001b[0;32m---> 90\u001b[0m \u001b[38;5;28;01mreturn\u001b[39;00m _bootstrap\u001b[38;5;241m.\u001b[39m_gcd_import(name[level:], package, level)\n",
      "File \u001b[0;32m<frozen importlib._bootstrap>:1387\u001b[0m, in \u001b[0;36m_gcd_import\u001b[0;34m(name, package, level)\u001b[0m\n",
      "File \u001b[0;32m<frozen importlib._bootstrap>:1360\u001b[0m, in \u001b[0;36m_find_and_load\u001b[0;34m(name, import_)\u001b[0m\n",
      "File \u001b[0;32m<frozen importlib._bootstrap>:1324\u001b[0m, in \u001b[0;36m_find_and_load_unlocked\u001b[0;34m(name, import_)\u001b[0m\n",
      "\u001b[0;31mModuleNotFoundError\u001b[0m: No module named 'transformers.models.esm.tokenization_esm'",
      "\nThe above exception was the direct cause of the following exception:\n",
      "\u001b[0;31mRuntimeError\u001b[0m                              Traceback (most recent call last)",
      "Cell \u001b[0;32mIn[19], line 1\u001b[0m\n\u001b[0;32m----> 1\u001b[0m \u001b[38;5;28;01mfrom\u001b[39;00m \u001b[38;5;21;01mtransformers\u001b[39;00m \u001b[38;5;28;01mimport\u001b[39;00m EsmTokenizer\n",
      "File \u001b[0;32m<frozen importlib._bootstrap>:1412\u001b[0m, in \u001b[0;36m_handle_fromlist\u001b[0;34m(module, fromlist, import_, recursive)\u001b[0m\n",
      "File \u001b[0;32m~/.conda/envs/protriever/lib/python3.12/site-packages/transformers/utils/import_utils.py:1381\u001b[0m, in \u001b[0;36m__getattr__\u001b[0;34m(self, name)\u001b[0m\n",
      "File \u001b[0;32m~/.conda/envs/protriever/lib/python3.12/site-packages/transformers/utils/import_utils.py:1380\u001b[0m, in \u001b[0;36m__getattr__\u001b[0;34m(self, name)\u001b[0m\n",
      "File \u001b[0;32m~/.conda/envs/protriever/lib/python3.12/site-packages/transformers/utils/import_utils.py:1392\u001b[0m, in \u001b[0;36m_get_module\u001b[0;34m(self, module_name)\u001b[0m\n",
      "\u001b[0;31mRuntimeError\u001b[0m: Failed to import transformers.models.esm.tokenization_esm because of the following error (look up to see its traceback):\nNo module named 'transformers.models.esm.tokenization_esm'"
     ]
    }
   ],
   "source": [
    "from transformers import EsmTokenizer"
   ]
  },
  {
   "cell_type": "code",
   "execution_count": 13,
   "metadata": {},
   "outputs": [
    {
     "data": {
      "text/plain": [
       "'sdpa'"
      ]
     },
     "execution_count": 13,
     "metadata": {},
     "output_type": "execute_result"
    }
   ],
   "source": [
    "model_hf.config._attn_implementation\n"
   ]
  },
  {
   "cell_type": "code",
   "execution_count": 14,
   "metadata": {},
   "outputs": [
    {
     "ename": "NameError",
     "evalue": "name 'tokenizer' is not defined",
     "output_type": "error",
     "traceback": [
      "\u001b[0;31m---------------------------------------------------------------------------\u001b[0m",
      "\u001b[0;31mNameError\u001b[0m                                 Traceback (most recent call last)",
      "Cell \u001b[0;32mIn[14], line 1\u001b[0m\n\u001b[0;32m----> 1\u001b[0m inputs \u001b[38;5;241m=\u001b[39m tokenizer(\u001b[38;5;124m\"\u001b[39m\u001b[38;5;124mHello, my dog is cute\u001b[39m\u001b[38;5;124m\"\u001b[39m, return_tensors\u001b[38;5;241m=\u001b[39m\u001b[38;5;124m\"\u001b[39m\u001b[38;5;124mpt\u001b[39m\u001b[38;5;124m\"\u001b[39m)\n\u001b[1;32m      2\u001b[0m outputs \u001b[38;5;241m=\u001b[39m model(\u001b[38;5;241m*\u001b[39m\u001b[38;5;241m*\u001b[39minputs)\n\u001b[1;32m      4\u001b[0m last_hidden_states \u001b[38;5;241m=\u001b[39m outputs\u001b[38;5;241m.\u001b[39mlast_hidden_state\n",
      "\u001b[0;31mNameError\u001b[0m: name 'tokenizer' is not defined"
     ]
    }
   ],
   "source": [
    "inputs = tokenizer(\"Hello, my dog is cute\", return_tensors=\"pt\")\n",
    "outputs = model(**inputs)\n",
    "\n",
    "last_hidden_states = outputs.last_hidden_state\n"
   ]
  },
  {
   "cell_type": "code",
   "execution_count": 8,
   "metadata": {},
   "outputs": [
    {
     "ename": "ImportError",
     "evalue": "Found an incompatible version of PyTorch. Found version 1.13.1, but only 1.13.99 and above are supported. Please upgrade PyTorch following https://pytorch.org/get-started/locally/ in order to use BetterTransformer.",
     "output_type": "error",
     "traceback": [
      "\u001b[0;31m---------------------------------------------------------------------------\u001b[0m",
      "\u001b[0;31mImportError\u001b[0m                               Traceback (most recent call last)",
      "Cell \u001b[0;32mIn[8], line 2\u001b[0m\n\u001b[1;32m      1\u001b[0m \u001b[38;5;28;01mfrom\u001b[39;00m \u001b[38;5;21;01moptimum\u001b[39;00m\u001b[38;5;21;01m.\u001b[39;00m\u001b[38;5;21;01mbettertransformer\u001b[39;00m \u001b[38;5;28;01mimport\u001b[39;00m BetterTransformer\n\u001b[0;32m----> 2\u001b[0m model \u001b[38;5;241m=\u001b[39m \u001b[43mBetterTransformer\u001b[49m\u001b[38;5;241;43m.\u001b[39;49m\u001b[43mtransform\u001b[49m\u001b[43m(\u001b[49m\u001b[43mmodel_hf\u001b[49m\u001b[43m,\u001b[49m\u001b[43m \u001b[49m\u001b[43mkeep_original_model\u001b[49m\u001b[38;5;241;43m=\u001b[39;49m\u001b[38;5;28;43;01mTrue\u001b[39;49;00m\u001b[43m)\u001b[49m\n",
      "File \u001b[0;32m~/.conda/envs/protein_npt_env/lib/python3.10/contextlib.py:78\u001b[0m, in \u001b[0;36mContextDecorator.__call__.<locals>.inner\u001b[0;34m(*args, **kwds)\u001b[0m\n\u001b[1;32m     76\u001b[0m \u001b[38;5;129m@wraps\u001b[39m(func)\n\u001b[1;32m     77\u001b[0m \u001b[38;5;28;01mdef\u001b[39;00m \u001b[38;5;21minner\u001b[39m(\u001b[38;5;241m*\u001b[39margs, \u001b[38;5;241m*\u001b[39m\u001b[38;5;241m*\u001b[39mkwds):\n\u001b[0;32m---> 78\u001b[0m     \u001b[38;5;28;01mwith\u001b[39;00m \u001b[38;5;28mself\u001b[39m\u001b[38;5;241m.\u001b[39m_recreate_cm():\n\u001b[1;32m     79\u001b[0m         \u001b[38;5;28;01mreturn\u001b[39;00m func(\u001b[38;5;241m*\u001b[39margs, \u001b[38;5;241m*\u001b[39m\u001b[38;5;241m*\u001b[39mkwds)\n",
      "File \u001b[0;32m~/.conda/envs/protein_npt_env/lib/python3.10/contextlib.py:135\u001b[0m, in \u001b[0;36m_GeneratorContextManager.__enter__\u001b[0;34m(self)\u001b[0m\n\u001b[1;32m    133\u001b[0m \u001b[38;5;28;01mdel\u001b[39;00m \u001b[38;5;28mself\u001b[39m\u001b[38;5;241m.\u001b[39margs, \u001b[38;5;28mself\u001b[39m\u001b[38;5;241m.\u001b[39mkwds, \u001b[38;5;28mself\u001b[39m\u001b[38;5;241m.\u001b[39mfunc\n\u001b[1;32m    134\u001b[0m \u001b[38;5;28;01mtry\u001b[39;00m:\n\u001b[0;32m--> 135\u001b[0m     \u001b[38;5;28;01mreturn\u001b[39;00m \u001b[38;5;28;43mnext\u001b[39;49m\u001b[43m(\u001b[49m\u001b[38;5;28;43mself\u001b[39;49m\u001b[38;5;241;43m.\u001b[39;49m\u001b[43mgen\u001b[49m\u001b[43m)\u001b[49m\n\u001b[1;32m    136\u001b[0m \u001b[38;5;28;01mexcept\u001b[39;00m \u001b[38;5;167;01mStopIteration\u001b[39;00m:\n\u001b[1;32m    137\u001b[0m     \u001b[38;5;28;01mraise\u001b[39;00m \u001b[38;5;167;01mRuntimeError\u001b[39;00m(\u001b[38;5;124m\"\u001b[39m\u001b[38;5;124mgenerator didn\u001b[39m\u001b[38;5;124m'\u001b[39m\u001b[38;5;124mt yield\u001b[39m\u001b[38;5;124m\"\u001b[39m) \u001b[38;5;28;01mfrom\u001b[39;00m \u001b[38;5;28mNone\u001b[39m\n",
      "File \u001b[0;32m~/.conda/envs/protein_npt_env/lib/python3.10/site-packages/optimum/utils/import_utils.py:153\u001b[0m, in \u001b[0;36mcheck_if_pytorch_greater\u001b[0;34m(target_version, message)\u001b[0m\n\u001b[1;32m    150\u001b[0m \u001b[38;5;28;01mimport\u001b[39;00m \u001b[38;5;21;01mtorch\u001b[39;00m\n\u001b[1;32m    152\u001b[0m \u001b[38;5;28;01mif\u001b[39;00m \u001b[38;5;129;01mnot\u001b[39;00m version\u001b[38;5;241m.\u001b[39mparse(torch\u001b[38;5;241m.\u001b[39m__version__) \u001b[38;5;241m>\u001b[39m\u001b[38;5;241m=\u001b[39m version\u001b[38;5;241m.\u001b[39mparse(target_version):\n\u001b[0;32m--> 153\u001b[0m     \u001b[38;5;28;01mraise\u001b[39;00m \u001b[38;5;167;01mImportError\u001b[39;00m(\n\u001b[1;32m    154\u001b[0m         \u001b[38;5;124mf\u001b[39m\u001b[38;5;124m\"\u001b[39m\u001b[38;5;124mFound an incompatible version of PyTorch. Found version \u001b[39m\u001b[38;5;132;01m{\u001b[39;00mtorch\u001b[38;5;241m.\u001b[39m__version__\u001b[38;5;132;01m}\u001b[39;00m\u001b[38;5;124m, but only \u001b[39m\u001b[38;5;132;01m{\u001b[39;00mtarget_version\u001b[38;5;132;01m}\u001b[39;00m\u001b[38;5;124m and above are supported. \u001b[39m\u001b[38;5;132;01m{\u001b[39;00mmessage\u001b[38;5;132;01m}\u001b[39;00m\u001b[38;5;124m\"\u001b[39m\n\u001b[1;32m    155\u001b[0m     )\n\u001b[1;32m    156\u001b[0m \u001b[38;5;28;01mtry\u001b[39;00m:\n\u001b[1;32m    157\u001b[0m     \u001b[38;5;28;01myield\u001b[39;00m\n",
      "\u001b[0;31mImportError\u001b[0m: Found an incompatible version of PyTorch. Found version 1.13.1, but only 1.13.99 and above are supported. Please upgrade PyTorch following https://pytorch.org/get-started/locally/ in order to use BetterTransformer."
     ]
    }
   ],
   "source": [
    "from optimum.bettertransformer import BetterTransformer\n",
    "model = BetterTransformer.transform(model_hf, keep_original_model=True)\n"
   ]
  },
  {
   "cell_type": "code",
   "execution_count": 7,
   "metadata": {},
   "outputs": [
    {
     "name": "stdout",
     "output_type": "stream",
     "text": [
      "Collecting optimum\n",
      "  Downloading optimum-1.17.1-py3-none-any.whl (407 kB)\n",
      "\u001b[2K     \u001b[90m━━━━━━━━━━━━━━━━━━━━━━━━━━━━━━━━━━━━━━\u001b[0m \u001b[32m407.1/407.1 kB\u001b[0m \u001b[31m10.1 MB/s\u001b[0m eta \u001b[36m0:00:00\u001b[0m00:01\u001b[0m\n",
      "\u001b[?25hRequirement already satisfied: packaging in /auto/users/rubman/.conda/envs/protein_npt_env/lib/python3.10/site-packages (from optimum) (23.0)\n",
      "Requirement already satisfied: numpy in /auto/users/rubman/.conda/envs/protein_npt_env/lib/python3.10/site-packages (from optimum) (1.23.5)\n",
      "Requirement already satisfied: huggingface-hub>=0.8.0 in /auto/users/rubman/.conda/envs/protein_npt_env/lib/python3.10/site-packages (from optimum) (0.20.2)\n",
      "Requirement already satisfied: transformers[sentencepiece]>=4.26.0 in /auto/users/rubman/.conda/envs/protein_npt_env/lib/python3.10/site-packages (from optimum) (4.38.1)\n",
      "Requirement already satisfied: datasets in /auto/users/rubman/.conda/envs/protein_npt_env/lib/python3.10/site-packages (from optimum) (2.16.1)\n",
      "Collecting coloredlogs\n",
      "  Downloading coloredlogs-15.0.1-py2.py3-none-any.whl (46 kB)\n",
      "\u001b[2K     \u001b[90m━━━━━━━━━━━━━━━━━━━━━━━━━━━━━━━━━━━━━━━━\u001b[0m \u001b[32m46.0/46.0 kB\u001b[0m \u001b[31m3.2 MB/s\u001b[0m eta \u001b[36m0:00:00\u001b[0m\n",
      "\u001b[?25hRequirement already satisfied: torch>=1.11 in /auto/users/rubman/.conda/envs/protein_npt_env/lib/python3.10/site-packages (from optimum) (1.13.1)\n",
      "Collecting sympy\n",
      "  Downloading sympy-1.12-py3-none-any.whl (5.7 MB)\n",
      "\u001b[2K     \u001b[90m━━━━━━━━━━━━━━━━━━━━━━━━━━━━━━━━━━━━━━━━\u001b[0m \u001b[32m5.7/5.7 MB\u001b[0m \u001b[31m30.5 MB/s\u001b[0m eta \u001b[36m0:00:00\u001b[0m00:01\u001b[0m00:01\u001b[0m\n",
      "\u001b[?25hRequirement already satisfied: filelock in /auto/users/rubman/.conda/envs/protein_npt_env/lib/python3.10/site-packages (from huggingface-hub>=0.8.0->optimum) (3.13.1)\n",
      "Requirement already satisfied: pyyaml>=5.1 in /auto/users/rubman/.conda/envs/protein_npt_env/lib/python3.10/site-packages (from huggingface-hub>=0.8.0->optimum) (6.0.1)\n",
      "Requirement already satisfied: typing-extensions>=3.7.4.3 in /auto/users/rubman/.conda/envs/protein_npt_env/lib/python3.10/site-packages (from huggingface-hub>=0.8.0->optimum) (4.8.0)\n",
      "Requirement already satisfied: fsspec>=2023.5.0 in /auto/users/rubman/.conda/envs/protein_npt_env/lib/python3.10/site-packages (from huggingface-hub>=0.8.0->optimum) (2023.10.0)\n",
      "Requirement already satisfied: requests in /auto/users/rubman/.conda/envs/protein_npt_env/lib/python3.10/site-packages (from huggingface-hub>=0.8.0->optimum) (2.28.1)\n",
      "Requirement already satisfied: tqdm>=4.42.1 in /auto/users/rubman/.conda/envs/protein_npt_env/lib/python3.10/site-packages (from huggingface-hub>=0.8.0->optimum) (4.64.1)\n",
      "Requirement already satisfied: safetensors>=0.4.1 in /auto/users/rubman/.conda/envs/protein_npt_env/lib/python3.10/site-packages (from transformers[sentencepiece]>=4.26.0->optimum) (0.4.2)\n",
      "Requirement already satisfied: regex!=2019.12.17 in /auto/users/rubman/.conda/envs/protein_npt_env/lib/python3.10/site-packages (from transformers[sentencepiece]>=4.26.0->optimum) (2022.10.31)\n",
      "Requirement already satisfied: tokenizers<0.19,>=0.14 in /auto/users/rubman/.conda/envs/protein_npt_env/lib/python3.10/site-packages (from transformers[sentencepiece]>=4.26.0->optimum) (0.15.2)\n",
      "Requirement already satisfied: sentencepiece!=0.1.92,>=0.1.91 in /auto/users/rubman/.conda/envs/protein_npt_env/lib/python3.10/site-packages (from transformers[sentencepiece]>=4.26.0->optimum) (0.2.0)\n",
      "Requirement already satisfied: protobuf in /auto/users/rubman/.conda/envs/protein_npt_env/lib/python3.10/site-packages (from transformers[sentencepiece]>=4.26.0->optimum) (4.21.12)\n",
      "Collecting humanfriendly>=9.1\n",
      "  Downloading humanfriendly-10.0-py2.py3-none-any.whl (86 kB)\n",
      "\u001b[2K     \u001b[90m━━━━━━━━━━━━━━━━━━━━━━━━━━━━━━━━━━━━━━━━\u001b[0m \u001b[32m86.8/86.8 kB\u001b[0m \u001b[31m10.8 MB/s\u001b[0m eta \u001b[36m0:00:00\u001b[0m\n",
      "\u001b[?25hRequirement already satisfied: pyarrow>=8.0.0 in /auto/users/rubman/.conda/envs/protein_npt_env/lib/python3.10/site-packages (from datasets->optimum) (10.0.1)\n",
      "Requirement already satisfied: pyarrow-hotfix in /auto/users/rubman/.conda/envs/protein_npt_env/lib/python3.10/site-packages (from datasets->optimum) (0.6)\n",
      "Requirement already satisfied: dill<0.3.8,>=0.3.0 in /auto/users/rubman/.conda/envs/protein_npt_env/lib/python3.10/site-packages (from datasets->optimum) (0.3.6)\n",
      "Requirement already satisfied: xxhash in /auto/users/rubman/.conda/envs/protein_npt_env/lib/python3.10/site-packages (from datasets->optimum) (3.2.0)\n",
      "Requirement already satisfied: aiohttp in /auto/users/rubman/.conda/envs/protein_npt_env/lib/python3.10/site-packages (from datasets->optimum) (3.8.3)\n",
      "Requirement already satisfied: multiprocess in /auto/users/rubman/.conda/envs/protein_npt_env/lib/python3.10/site-packages (from datasets->optimum) (0.70.14)\n",
      "Requirement already satisfied: pandas in /auto/users/rubman/.conda/envs/protein_npt_env/lib/python3.10/site-packages (from datasets->optimum) (2.2.1)\n",
      "Collecting mpmath>=0.19\n",
      "  Downloading mpmath-1.3.0-py3-none-any.whl (536 kB)\n",
      "\u001b[2K     \u001b[90m━━━━━━━━━━━━━━━━━━━━━━━━━━━━━━━━━━━━━━\u001b[0m \u001b[32m536.2/536.2 kB\u001b[0m \u001b[31m30.6 MB/s\u001b[0m eta \u001b[36m0:00:00\u001b[0m\n",
      "\u001b[?25hRequirement already satisfied: charset-normalizer<3.0,>=2.0 in /auto/users/rubman/.conda/envs/protein_npt_env/lib/python3.10/site-packages (from aiohttp->datasets->optimum) (2.0.4)\n",
      "Requirement already satisfied: yarl<2.0,>=1.0 in /auto/users/rubman/.conda/envs/protein_npt_env/lib/python3.10/site-packages (from aiohttp->datasets->optimum) (1.8.2)\n",
      "Requirement already satisfied: aiosignal>=1.1.2 in /auto/users/rubman/.conda/envs/protein_npt_env/lib/python3.10/site-packages (from aiohttp->datasets->optimum) (1.3.1)\n",
      "Requirement already satisfied: async-timeout<5.0,>=4.0.0a3 in /auto/users/rubman/.conda/envs/protein_npt_env/lib/python3.10/site-packages (from aiohttp->datasets->optimum) (4.0.2)\n",
      "Requirement already satisfied: frozenlist>=1.1.1 in /auto/users/rubman/.conda/envs/protein_npt_env/lib/python3.10/site-packages (from aiohttp->datasets->optimum) (1.3.3)\n",
      "Requirement already satisfied: attrs>=17.3.0 in /auto/users/rubman/.conda/envs/protein_npt_env/lib/python3.10/site-packages (from aiohttp->datasets->optimum) (22.2.0)\n",
      "Requirement already satisfied: multidict<7.0,>=4.5 in /auto/users/rubman/.conda/envs/protein_npt_env/lib/python3.10/site-packages (from aiohttp->datasets->optimum) (6.0.4)\n",
      "Requirement already satisfied: certifi>=2017.4.17 in /auto/users/rubman/.conda/envs/protein_npt_env/lib/python3.10/site-packages (from requests->huggingface-hub>=0.8.0->optimum) (2024.2.2)\n",
      "Requirement already satisfied: urllib3<1.27,>=1.21.1 in /auto/users/rubman/.conda/envs/protein_npt_env/lib/python3.10/site-packages (from requests->huggingface-hub>=0.8.0->optimum) (1.26.15)\n",
      "Requirement already satisfied: idna<4,>=2.5 in /auto/users/rubman/.conda/envs/protein_npt_env/lib/python3.10/site-packages (from requests->huggingface-hub>=0.8.0->optimum) (3.4)\n",
      "Requirement already satisfied: python-dateutil>=2.8.2 in /auto/users/rubman/.conda/envs/protein_npt_env/lib/python3.10/site-packages (from pandas->datasets->optimum) (2.8.2)\n",
      "Requirement already satisfied: pytz>=2020.1 in /auto/users/rubman/.conda/envs/protein_npt_env/lib/python3.10/site-packages (from pandas->datasets->optimum) (2022.7)\n",
      "Requirement already satisfied: tzdata>=2022.7 in /auto/users/rubman/.conda/envs/protein_npt_env/lib/python3.10/site-packages (from pandas->datasets->optimum) (2024.1)\n",
      "Requirement already satisfied: six>=1.5 in /auto/users/rubman/.conda/envs/protein_npt_env/lib/python3.10/site-packages (from python-dateutil>=2.8.2->pandas->datasets->optimum) (1.16.0)\n",
      "Installing collected packages: mpmath, sympy, humanfriendly, coloredlogs, optimum\n",
      "Successfully installed coloredlogs-15.0.1 humanfriendly-10.0 mpmath-1.3.0 optimum-1.17.1 sympy-1.12\n"
     ]
    }
   ],
   "source": [
    "!pip install optimum"
   ]
  },
  {
   "cell_type": "code",
   "execution_count": null,
   "metadata": {},
   "outputs": [],
   "source": []
  }
 ],
 "metadata": {
  "kernelspec": {
   "display_name": "protein_npt_env",
   "language": "python",
   "name": "python3"
  },
  "language_info": {
   "codemirror_mode": {
    "name": "ipython",
    "version": 3
   },
   "file_extension": ".py",
   "mimetype": "text/x-python",
   "name": "python",
   "nbconvert_exporter": "python",
   "pygments_lexer": "ipython3",
   "version": "3.12.2"
  }
 },
 "nbformat": 4,
 "nbformat_minor": 2
}
